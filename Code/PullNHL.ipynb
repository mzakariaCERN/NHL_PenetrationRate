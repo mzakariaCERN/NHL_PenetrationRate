{
 "cells": [
  {
   "cell_type": "code",
   "execution_count": 16,
   "metadata": {},
   "outputs": [
    {
     "name": "stdout",
     "output_type": "stream",
     "text": [
      "{}\n"
     ]
    }
   ],
   "source": [
    "from autoscraper import AutoScraper\n",
    "\n",
    "url = 'https://cancerstatisticscenter.cancer.org/#!/cancer-site/Non-Hodgkin%20lymphoma'\n",
    "wanted_dict = {'State': [\"Alaska\"], 'Estimated new cases, 2020': [\"120\"]}\n",
    "\n",
    "scraper = AutoScraper()\n",
    "scraper.build(url, wanted_dict=wanted_dict)\n",
    "result = scraper.get_result_similar(url, group_by_alias=True)\n",
    "print(result)"
   ]
  },
  {
   "cell_type": "code",
   "execution_count": 15,
   "metadata": {},
   "outputs": [
    {
     "name": "stdout",
     "output_type": "stream",
     "text": [
      "None\n"
     ]
    }
   ],
   "source": [
    "from autoscraper import AutoScraper\n",
    "\n",
    "url = 'https://cancerstatisticscenter.cancer.org/#!/data-analysis/NewCaseEstimates'\n",
    "\n",
    "wanted_list_state = [\"California\"]\n",
    "scraper = AutoScraper()\n",
    "result_statename = scraper.build(url, wanted_list_state)\n",
    "print(result_statename)"
   ]
  },
  {
   "cell_type": "code",
   "execution_count": 21,
   "metadata": {},
   "outputs": [],
   "source": [
    "import bs4 as bs\n",
    "import urllib.request\n",
    "\n",
    "sauce = urllib.request.urlopen('https://cancerstatisticscenter.cancer.org/cancer-site/Non-Hodgkin%20lymphoma/THdtY83c').read()\n",
    "soup = bs.BeautifulSoup(sauce, 'lxml')"
   ]
  },
  {
   "cell_type": "code",
   "execution_count": 22,
   "metadata": {},
   "outputs": [],
   "source": [
    "# find navigation\n",
    "nav = soup.nav"
   ]
  },
  {
   "cell_type": "code",
   "execution_count": 23,
   "metadata": {},
   "outputs": [
    {
     "name": "stdout",
     "output_type": "stream",
     "text": [
      "<nav class=\"global-header__nav\">\n",
      "<a class=\"global-header__nav-item\" href=\"\" ng-click=\"header.toggleMenu('state')\">By State</a>\n",
      "<a class=\"global-header__nav-item\" href=\"\" ng-click=\"header.toggleMenu('cancerSite')\">By Cancer Type</a>\n",
      "<a class=\"global-header__nav-item\" href=\"\" ng-click=\"header.toggleMenu('dataAnalysis')\">Analysis Tool</a>\n",
      "</nav>\n"
     ]
    }
   ],
   "source": [
    "print(nav)"
   ]
  },
  {
   "cell_type": "code",
   "execution_count": 25,
   "metadata": {},
   "outputs": [
    {
     "name": "stdout",
     "output_type": "stream",
     "text": [
      "\n",
      "\n",
      "\n"
     ]
    }
   ],
   "source": [
    "for url in nav.find_all('a'):\n",
    "    print(url.get('href')) ## will give all links we find in the nav bar"
   ]
  },
  {
   "cell_type": "code",
   "execution_count": 28,
   "metadata": {},
   "outputs": [],
   "source": [
    "body = soup.body\n",
    "for paragraph in body.find_all('p'):\n",
    "    print(paragraph.text) # no body tag"
   ]
  },
  {
   "cell_type": "code",
   "execution_count": 29,
   "metadata": {},
   "outputs": [
    {
     "name": "stdout",
     "output_type": "stream",
     "text": [
      "None\n",
      "None\n"
     ]
    }
   ],
   "source": [
    "for div in soup.find_all('div'):\n",
    "    print(div.txt)"
   ]
  },
  {
   "cell_type": "code",
   "execution_count": 32,
   "metadata": {},
   "outputs": [
    {
     "name": "stdout",
     "output_type": "stream",
     "text": [
      "None\n"
     ]
    }
   ],
   "source": [
    "table = soup.table\n",
    "table = soup.find('table')\n",
    "print(table)"
   ]
  },
  {
   "cell_type": "code",
   "execution_count": null,
   "metadata": {},
   "outputs": [],
   "source": []
  }
 ],
 "metadata": {
  "kernelspec": {
   "display_name": "Python 3.7.4 64-bit ('EmailO': conda)",
   "language": "python",
   "name": "python37464bitemailoconda80d5ca88bd394217b6c5518c0874cdd8"
  },
  "language_info": {
   "name": ""
  }
 },
 "nbformat": 4,
 "nbformat_minor": 4
}
